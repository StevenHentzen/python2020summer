{
 "cells": [
  {
   "cell_type": "markdown",
   "metadata": {},
   "source": [
    "## 1"
   ]
  },
  {
   "cell_type": "code",
   "execution_count": 10,
   "metadata": {},
   "outputs": [
    {
     "name": "stdout",
     "output_type": "stream",
     "text": [
      "10\n"
     ]
    }
   ],
   "source": [
    "list_of_words = ['Apple', 'Carrot', 'Pineapple', 'Rutabaga', 'Watermelon',\\\n",
    "                 'Peas']\n",
    "longest_word = len(max(list_of_words))\n",
    "print(longest_word)\n",
    "    "
   ]
  },
  {
   "cell_type": "markdown",
   "metadata": {},
   "source": [
    "## 2"
   ]
  },
  {
   "cell_type": "code",
   "execution_count": 12,
   "metadata": {},
   "outputs": [
    {
     "name": "stdout",
     "output_type": "stream",
     "text": [
      "5\n"
     ]
    }
   ],
   "source": [
    "unique = len(set('abbcccdddeeee'))\n",
    "print(unique)"
   ]
  },
  {
   "cell_type": "markdown",
   "metadata": {},
   "source": [
    "## 3"
   ]
  },
  {
   "cell_type": "code",
   "execution_count": 37,
   "metadata": {},
   "outputs": [
    {
     "name": "stdout",
     "output_type": "stream",
     "text": [
      "Jack 100\n",
      "Liz 98\n",
      "Pete 88\n",
      "Kenneth 74\n",
      "Lutz 58\n"
     ]
    }
   ],
   "source": [
    "grades = {'Liz': 98, 'Jack': 100, 'Kenneth': 74, 'Lutz': 58, 'Pete': 88}\n",
    "\n",
    "sorted_grades_decending = sorted(grades.items(), key=lambda x: x[1], \n",
    "                                 reverse=True)\n",
    "for i in sorted_grades_decending:\n",
    "    print(i[0], i[1])\n",
    "    \n"
   ]
  },
  {
   "cell_type": "code",
   "execution_count": 39,
   "metadata": {},
   "outputs": [
    {
     "name": "stdout",
     "output_type": "stream",
     "text": [
      "Lutz 58\n",
      "Kenneth 74\n",
      "Pete 88\n",
      "Liz 98\n",
      "Jack 100\n"
     ]
    }
   ],
   "source": [
    "sorted_grades_ascending = sorted(grades.items(), key=lambda x: x[1])\n",
    "for i in sorted_grades_ascending:\n",
    "    print(i[0], i[1])"
   ]
  },
  {
   "cell_type": "markdown",
   "metadata": {},
   "source": [
    "## 4"
   ]
  },
  {
   "cell_type": "code",
   "execution_count": 43,
   "metadata": {},
   "outputs": [
    {
     "name": "stdout",
     "output_type": "stream",
     "text": [
      "Enter a word: Redrum\n",
      "medruR\n"
     ]
    }
   ],
   "source": [
    "strg = input('Enter a word: ')\n",
    "print(strg[-1] + strg[1:-1] + strg[0])"
   ]
  },
  {
   "cell_type": "markdown",
   "metadata": {},
   "source": [
    "## 5"
   ]
  },
  {
   "cell_type": "code",
   "execution_count": 57,
   "metadata": {},
   "outputs": [
    {
     "name": "stdout",
     "output_type": "stream",
     "text": [
      "True\n"
     ]
    }
   ],
   "source": [
    "listA = [77, 88, 99, 123]\n",
    "listB = [44, 55, 66, 123]\n",
    "\n",
    "def compare_lists(list1, list2):\n",
    "    result = False\n",
    "    for x in list1:\n",
    "        for y in list2:\n",
    "            if x == y:\n",
    "                result = True\n",
    "                return result\n",
    "\n",
    "print(compare_lists(listA, listB))"
   ]
  },
  {
   "cell_type": "markdown",
   "metadata": {},
   "source": [
    "## 6"
   ]
  },
  {
   "cell_type": "code",
   "execution_count": 120,
   "metadata": {},
   "outputs": [
    {
     "name": "stdout",
     "output_type": "stream",
     "text": [
      "[1.0, [0.1, 0.01]]\n"
     ]
    }
   ],
   "source": [
    "# I couldn't figure out how to get the number of coins counted,\n",
    "# but this function outputs a list of the min. coins to get to the amount.\n",
    "\n",
    "def return_change(to_return, coins = [.01, .10, .25, 1.0]):\n",
    "    flag = None\n",
    "    for c in coins:\n",
    "        if c == to_return:  return c\n",
    "        if c < to_return:\n",
    "            flag = c\n",
    "    temp_balance = round(to_return - flag, 2)\n",
    "    return [flag] + [return_change(temp_balance)]\n",
    "    \n",
    "            \n",
    "result = return_change(1.11)\n",
    "print(result)"
   ]
  },
  {
   "cell_type": "code",
   "execution_count": null,
   "metadata": {},
   "outputs": [],
   "source": []
  }
 ],
 "metadata": {
  "kernelspec": {
   "display_name": "Python 3",
   "language": "python",
   "name": "python3"
  }
 },
 "nbformat": 4,
 "nbformat_minor": 4
}
